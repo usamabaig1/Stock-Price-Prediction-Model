{
 "cells": [
  {
   "cell_type": "code",
   "execution_count": 1,
   "metadata": {},
   "outputs": [
    {
     "name": "stderr",
     "output_type": "stream",
     "text": [
      "C:\\ProgramData\\Anaconda2\\lib\\site-packages\\statsmodels\\compat\\pandas.py:56: FutureWarning: The pandas.core.datetools module is deprecated and will be removed in a future version. Please use the pandas.tseries module instead.\n",
      "  from pandas.core import datetools\n"
     ]
    }
   ],
   "source": [
    "# conda env export > environment.yml\n",
    "import pandas as pd\n",
    "import numpy as np\n",
    "import warnings\n",
    "from matplotlib import pyplot\n",
    "#from pandas import read_csv, set_option\n",
    "from pandas import Series, datetime\n",
    "from pandas.tools.plotting import scatter_matrix, autocorrelation_plot\n",
    "from sklearn.preprocessing import StandardScaler\n",
    "from sklearn.model_selection import train_test_split, KFold, cross_val_score, GridSearchCV, TimeSeriesSplit\n",
    "from sklearn.metrics import classification_report, confusion_matrix, accuracy_score, mean_squared_error\n",
    "from sklearn.pipeline import Pipeline\n",
    "from sklearn.linear_model import LogisticRegression\n",
    "from sklearn.tree import DecisionTreeClassifier\n",
    "from sklearn.neighbors import KNeighborsClassifier\n",
    "from sklearn.discriminant_analysis import LinearDiscriminantAnalysis\n",
    "from sklearn.naive_bayes import GaussianNB\n",
    "from sklearn.svm import SVC\n",
    "\n",
    "from sklearn.ensemble import AdaBoostClassifier, GradientBoostingClassifier, RandomForestClassifier, ExtraTreesClassifier\n",
    "from sklearn.metrics import roc_curve, auc\n",
    "import matplotlib.pyplot as plt\n",
    "import random\n",
    "from statsmodels.graphics.tsaplots import plot_acf, plot_pacf\n",
    "from statsmodels.tsa.arima_model import ARIMA\n",
    "from xgboost import XGBClassifier\n",
    "import seaborn as sns\n",
    "import pickle\n",
    "from datetime import date, timedelta\n",
    "from datetime import datetime\n",
    "import timeboard.calendars.US as US\n",
    "import pytz\n",
    "from urllib2 import Request\n",
    "from urllib2 import  urlopen\n",
    "import json\n",
    "from pandas.io.json import json_normalize\n",
    "import pandas.io.json as pd_json\n",
    "from sklearn.decomposition import PCA\n",
    "warnings.filterwarnings(\"ignore\")\n"
   ]
  },
  {
   "cell_type": "code",
   "execution_count": 2,
   "metadata": {},
   "outputs": [
    {
     "data": {
      "text/html": [
       "<div>\n",
       "<style scoped>\n",
       "    .dataframe tbody tr th:only-of-type {\n",
       "        vertical-align: middle;\n",
       "    }\n",
       "\n",
       "    .dataframe tbody tr th {\n",
       "        vertical-align: top;\n",
       "    }\n",
       "\n",
       "    .dataframe thead th {\n",
       "        text-align: right;\n",
       "    }\n",
       "</style>\n",
       "<table border=\"1\" class=\"dataframe\">\n",
       "  <thead>\n",
       "    <tr style=\"text-align: right;\">\n",
       "      <th></th>\n",
       "      <th>Subjectivity</th>\n",
       "      <th>Objectivity</th>\n",
       "      <th>Positive</th>\n",
       "      <th>Neutral</th>\n",
       "      <th>Negative</th>\n",
       "    </tr>\n",
       "  </thead>\n",
       "  <tbody>\n",
       "    <tr>\n",
       "      <th>0</th>\n",
       "      <td>100.0</td>\n",
       "      <td>0.0</td>\n",
       "      <td>40.0</td>\n",
       "      <td>0.0</td>\n",
       "      <td>60.0</td>\n",
       "    </tr>\n",
       "  </tbody>\n",
       "</table>\n",
       "</div>"
      ],
      "text/plain": [
       "   Subjectivity  Objectivity  Positive  Neutral  Negative\n",
       "0         100.0          0.0      40.0      0.0      60.0"
      ]
     },
     "execution_count": 2,
     "metadata": {},
     "output_type": "execute_result"
    }
   ],
   "source": [
    "# Loading the dataset to a dataframe\n",
    "sentence_file = \"Sentence_Polarity/TodaySentiments.csv\"\n",
    "sentence_df = pd.read_csv(sentence_file)\n",
    "# sentence_df.head()\n",
    "sentence_df = sentence_df.head(1)\n",
    "# sentence_df[ ['Subjectivity', 'Objectivity', 'Positive', 'Negative', 'Neutral']]\n",
    "sentence_df.iloc[:,4:9]"
   ]
  },
  {
   "cell_type": "code",
   "execution_count": 3,
   "metadata": {
    "scrolled": false
   },
   "outputs": [
    {
     "name": "stdout",
     "output_type": "stream",
     "text": [
      "(1, 9)\n",
      "Unnamed: 0        int64\n",
      "Unnamed: 0.1      int64\n",
      "Date             object\n",
      "Title            object\n",
      "Subjectivity    float64\n",
      "Objectivity     float64\n",
      "Positive        float64\n",
      "Neutral         float64\n",
      "Negative        float64\n",
      "dtype: object\n"
     ]
    }
   ],
   "source": [
    "# Check the shape and data types of the dataframe\n",
    "print(sentence_df.shape)\n",
    "# print(sentence_df.dtypes) \n",
    "sentence_df['Subjectivity'] = sentence_df['Subjectivity'].astype(float)\n",
    "sentence_df['Objectivity'] = sentence_df['Objectivity'].astype(float)\n",
    "sentence_df['Positive'] = sentence_df['Positive'].astype(float)\n",
    "sentence_df['Neutral'] = sentence_df['Neutral'].astype(float)\n",
    "sentence_df['Negative'] = sentence_df['Negative'].astype(float)\n",
    "print(sentence_df.dtypes) "
   ]
  },
  {
   "cell_type": "code",
   "execution_count": 4,
   "metadata": {},
   "outputs": [],
   "source": [
    "# # pd.to_datetime(date.today())\n",
    "# # str(date.today())\n",
    "# yesterday = str(date.today() -  timedelta(days = 1))\n",
    "\n",
    "\n",
    "# tz_NY = pytz.timezone('America/New_York') \n",
    "# datetime_NY = datetime.now(tz_NY)\n",
    "# datetime_NY\n",
    "# currentDayUS = str(pd.to_datetime(datetime_NY)).split(' ')[0]\n",
    "# # print(\"NY time:\", datetime_NY.strftime(\"%Y:%M:%S\"))\n",
    "# yesterdayUS = str(pd.to_datetime(datetime_NY) -  timedelta(days = 1)).split(' ')[0]\n",
    "# # yesterday = pd.to_datetime(yesterdayUS)\n",
    "# currentDayUS\n",
    "# yesterdayUS\n",
    "\n",
    "# clnd = US.Weekly8x5()\n",
    "# lastWorkingDayUS = str(clnd(yesterdayUS).rollback().to_timestamp().date())\n",
    "# lastWorkingDayUS"
   ]
  },
  {
   "cell_type": "code",
   "execution_count": 5,
   "metadata": {
    "scrolled": true
   },
   "outputs": [
    {
     "data": {
      "text/plain": [
       "{u'history': {u'2019-11-06': {u'close': u'27492.56',\n",
       "   u'high': u'27526.05',\n",
       "   u'low': u'27407.81',\n",
       "   u'open': u'27502.74',\n",
       "   u'volume': u'243187265'},\n",
       "  u'2019-11-07': {u'close': u'27674.80',\n",
       "   u'high': u'27774.67',\n",
       "   u'low': u'27590.16',\n",
       "   u'open': u'27590.16',\n",
       "   u'volume': u'263577159'},\n",
       "  u'2019-11-08': {u'close': u'27681.24',\n",
       "   u'high': u'27694.95',\n",
       "   u'low': u'27578.97',\n",
       "   u'open': u'27686.20',\n",
       "   u'volume': u'222786014'},\n",
       "  u'2019-11-11': {u'close': u'27691.49',\n",
       "   u'high': u'27714.39',\n",
       "   u'low': u'27517.67',\n",
       "   u'open': u'27580.66',\n",
       "   u'volume': u'204621806'},\n",
       "  u'2019-11-12': {u'close': u'27691.49',\n",
       "   u'high': u'27770.86',\n",
       "   u'low': u'27635.32',\n",
       "   u'open': u'27701.59',\n",
       "   u'volume': u'213668945'},\n",
       "  u'2019-11-13': {u'close': u'27783.59',\n",
       "   u'high': u'27806.40',\n",
       "   u'low': u'27587.20',\n",
       "   u'open': u'27622.00',\n",
       "   u'volume': u'278387733'}},\n",
       " u'name': u'^DJI'}"
      ]
     },
     "execution_count": 5,
     "metadata": {},
     "output_type": "execute_result"
    }
   ],
   "source": [
    "apiKey = '9AyXbJ2Mzk2M8ptCmzr4YEZTor4KEWBoBtLTscfz4x8Xugh6PnQxLjx38xbt'\n",
    "index = '^DJI'\n",
    "fromDate = '2019-11-06'\n",
    "apiEndPoint = 'https://api.worldtradingdata.com/api/v1/history?symbol=' +index+ '&sort=newest&date_from=' +fromDate+ '&api_token=' + apiKey\n",
    "\n",
    "request=Request(apiEndPoint)\n",
    "response = urlopen(request)\n",
    "elevations = response.read()\n",
    "data = json.loads(elevations)\n",
    "data"
   ]
  },
  {
   "cell_type": "code",
   "execution_count": 6,
   "metadata": {},
   "outputs": [
    {
     "data": {
      "text/plain": [
       "6"
      ]
     },
     "execution_count": 6,
     "metadata": {},
     "output_type": "execute_result"
    },
    {
     "data": {
      "text/html": [
       "<div>\n",
       "<style scoped>\n",
       "    .dataframe tbody tr th:only-of-type {\n",
       "        vertical-align: middle;\n",
       "    }\n",
       "\n",
       "    .dataframe tbody tr th {\n",
       "        vertical-align: top;\n",
       "    }\n",
       "\n",
       "    .dataframe thead th {\n",
       "        text-align: right;\n",
       "    }\n",
       "</style>\n",
       "<table border=\"1\" class=\"dataframe\">\n",
       "  <thead>\n",
       "    <tr style=\"text-align: right;\">\n",
       "      <th></th>\n",
       "      <th>Date</th>\n",
       "      <th>Open</th>\n",
       "      <th>High</th>\n",
       "      <th>Low</th>\n",
       "      <th>Close</th>\n",
       "      <th>Volume</th>\n",
       "    </tr>\n",
       "  </thead>\n",
       "  <tbody>\n",
       "    <tr>\n",
       "      <th>0</th>\n",
       "      <td>2019-11-13</td>\n",
       "      <td>27622.00</td>\n",
       "      <td>27806.40</td>\n",
       "      <td>27587.20</td>\n",
       "      <td>27783.59</td>\n",
       "      <td>278387733</td>\n",
       "    </tr>\n",
       "    <tr>\n",
       "      <th>1</th>\n",
       "      <td>2019-11-12</td>\n",
       "      <td>27701.59</td>\n",
       "      <td>27770.86</td>\n",
       "      <td>27635.32</td>\n",
       "      <td>27691.49</td>\n",
       "      <td>213668945</td>\n",
       "    </tr>\n",
       "    <tr>\n",
       "      <th>2</th>\n",
       "      <td>2019-11-11</td>\n",
       "      <td>27580.66</td>\n",
       "      <td>27714.39</td>\n",
       "      <td>27517.67</td>\n",
       "      <td>27691.49</td>\n",
       "      <td>204621806</td>\n",
       "    </tr>\n",
       "    <tr>\n",
       "      <th>3</th>\n",
       "      <td>2019-11-08</td>\n",
       "      <td>27686.20</td>\n",
       "      <td>27694.95</td>\n",
       "      <td>27578.97</td>\n",
       "      <td>27681.24</td>\n",
       "      <td>222786014</td>\n",
       "    </tr>\n",
       "    <tr>\n",
       "      <th>4</th>\n",
       "      <td>2019-11-07</td>\n",
       "      <td>27590.16</td>\n",
       "      <td>27774.67</td>\n",
       "      <td>27590.16</td>\n",
       "      <td>27674.80</td>\n",
       "      <td>263577159</td>\n",
       "    </tr>\n",
       "  </tbody>\n",
       "</table>\n",
       "</div>"
      ],
      "text/plain": [
       "         Date      Open      High       Low     Close     Volume\n",
       "0  2019-11-13  27622.00  27806.40  27587.20  27783.59  278387733\n",
       "1  2019-11-12  27701.59  27770.86  27635.32  27691.49  213668945\n",
       "2  2019-11-11  27580.66  27714.39  27517.67  27691.49  204621806\n",
       "3  2019-11-08  27686.20  27694.95  27578.97  27681.24  222786014\n",
       "4  2019-11-07  27590.16  27774.67  27590.16  27674.80  263577159"
      ]
     },
     "execution_count": 6,
     "metadata": {},
     "output_type": "execute_result"
    },
    {
     "data": {
      "text/html": [
       "<div>\n",
       "<style scoped>\n",
       "    .dataframe tbody tr th:only-of-type {\n",
       "        vertical-align: middle;\n",
       "    }\n",
       "\n",
       "    .dataframe tbody tr th {\n",
       "        vertical-align: top;\n",
       "    }\n",
       "\n",
       "    .dataframe thead th {\n",
       "        text-align: right;\n",
       "    }\n",
       "</style>\n",
       "<table border=\"1\" class=\"dataframe\">\n",
       "  <thead>\n",
       "    <tr style=\"text-align: right;\">\n",
       "      <th></th>\n",
       "      <th>Date</th>\n",
       "      <th>Open</th>\n",
       "      <th>High</th>\n",
       "      <th>Low</th>\n",
       "      <th>Close</th>\n",
       "      <th>Volume</th>\n",
       "    </tr>\n",
       "  </thead>\n",
       "  <tbody>\n",
       "    <tr>\n",
       "      <th>0</th>\n",
       "      <td>2019-11-13</td>\n",
       "      <td>27622.0</td>\n",
       "      <td>27806.4</td>\n",
       "      <td>27587.2</td>\n",
       "      <td>27783.59</td>\n",
       "      <td>278387733.0</td>\n",
       "    </tr>\n",
       "  </tbody>\n",
       "</table>\n",
       "</div>"
      ],
      "text/plain": [
       "        Date     Open     High      Low     Close       Volume\n",
       "0 2019-11-13  27622.0  27806.4  27587.2  27783.59  278387733.0"
      ]
     },
     "execution_count": 6,
     "metadata": {},
     "output_type": "execute_result"
    },
    {
     "name": "stdout",
     "output_type": "stream",
     "text": [
      "(1, 6)\n"
     ]
    }
   ],
   "source": [
    "df = pd_json.json_normalize(data, \n",
    "                            record_path='history', \n",
    "                            meta=['history'])\n",
    "\n",
    "numberOfRows = len(df.index)\n",
    "stonks = pd.DataFrame(index=np.arange(0, numberOfRows), columns=('Date', 'Open', 'High','Low','Close', 'Volume'))\n",
    "for idx , date in enumerate(data['history']): \n",
    "    stonks.loc[idx] = [date \n",
    "                       ,data['history'][date]['open']\n",
    "                       ,data['history'][date]['high']\n",
    "                       ,data['history'][date]['low']\n",
    "                       ,data['history'][date]['close']\n",
    "                       ,data['history'][date]['volume']\n",
    "                       ]\n",
    "numberOfRows\n",
    "# stonks.head()\n",
    "stonks = stonks.sort_values(by = 'Date', ascending = 0)\n",
    "\n",
    "# Check the shape and datatypes of the stock prices dataframe\n",
    "# stock_data = stonks.head(1)\n",
    "stock_data =  stonks\n",
    "# stock_data.head()\n",
    "stock_data = stock_data.reset_index(drop=True)\n",
    "stock_data.head()\n",
    "stock_data['Date'] = pd.to_datetime(stock_data['Date'])\n",
    "stock_data['Open'] = stock_data['Open'].astype(float)\n",
    "stock_data['High'] = stock_data['High'].astype(float)\n",
    "stock_data['Low'] = stock_data['Low'].astype(float)\n",
    "stock_data['Close'] = stock_data['Close'].astype(float)\n",
    "stock_data['Volume'] = stock_data['Volume'].astype(float)\n",
    "stock_data = stock_data.head(1)\n",
    "stock_data\n",
    "print(stock_data.shape)"
   ]
  },
  {
   "cell_type": "code",
   "execution_count": 7,
   "metadata": {},
   "outputs": [
    {
     "name": "stdout",
     "output_type": "stream",
     "text": [
      "(1, 11)\n"
     ]
    },
    {
     "data": {
      "text/html": [
       "<div>\n",
       "<style scoped>\n",
       "    .dataframe tbody tr th:only-of-type {\n",
       "        vertical-align: middle;\n",
       "    }\n",
       "\n",
       "    .dataframe tbody tr th {\n",
       "        vertical-align: top;\n",
       "    }\n",
       "\n",
       "    .dataframe thead th {\n",
       "        text-align: right;\n",
       "    }\n",
       "</style>\n",
       "<table border=\"1\" class=\"dataframe\">\n",
       "  <thead>\n",
       "    <tr style=\"text-align: right;\">\n",
       "      <th></th>\n",
       "      <th>Subjectivity</th>\n",
       "      <th>Objectivity</th>\n",
       "      <th>Positive</th>\n",
       "      <th>Negative</th>\n",
       "      <th>Neutral</th>\n",
       "      <th>Date</th>\n",
       "      <th>Open</th>\n",
       "      <th>High</th>\n",
       "      <th>Low</th>\n",
       "      <th>Close</th>\n",
       "      <th>Volume</th>\n",
       "    </tr>\n",
       "  </thead>\n",
       "  <tbody>\n",
       "    <tr>\n",
       "      <th>0</th>\n",
       "      <td>100.0</td>\n",
       "      <td>0.0</td>\n",
       "      <td>40.0</td>\n",
       "      <td>60.0</td>\n",
       "      <td>0.0</td>\n",
       "      <td>2019-11-13</td>\n",
       "      <td>27622.0</td>\n",
       "      <td>27806.4</td>\n",
       "      <td>27587.2</td>\n",
       "      <td>27783.59</td>\n",
       "      <td>278387733.0</td>\n",
       "    </tr>\n",
       "  </tbody>\n",
       "</table>\n",
       "</div>"
      ],
      "text/plain": [
       "   Subjectivity  Objectivity  Positive  Negative  Neutral       Date     Open  \\\n",
       "0         100.0          0.0      40.0      60.0      0.0 2019-11-13  27622.0   \n",
       "\n",
       "      High      Low     Close       Volume  \n",
       "0  27806.4  27587.2  27783.59  278387733.0  "
      ]
     },
     "execution_count": 7,
     "metadata": {},
     "output_type": "execute_result"
    },
    {
     "data": {
      "text/html": [
       "<div>\n",
       "<style scoped>\n",
       "    .dataframe tbody tr th:only-of-type {\n",
       "        vertical-align: middle;\n",
       "    }\n",
       "\n",
       "    .dataframe tbody tr th {\n",
       "        vertical-align: top;\n",
       "    }\n",
       "\n",
       "    .dataframe thead th {\n",
       "        text-align: right;\n",
       "    }\n",
       "</style>\n",
       "<table border=\"1\" class=\"dataframe\">\n",
       "  <thead>\n",
       "    <tr style=\"text-align: right;\">\n",
       "      <th></th>\n",
       "      <th>Date</th>\n",
       "      <th>Subjectivity</th>\n",
       "      <th>Objectivity</th>\n",
       "      <th>Positive</th>\n",
       "      <th>Negative</th>\n",
       "      <th>Neutral</th>\n",
       "      <th>Open</th>\n",
       "      <th>High</th>\n",
       "      <th>Low</th>\n",
       "      <th>Close</th>\n",
       "      <th>Volume</th>\n",
       "    </tr>\n",
       "  </thead>\n",
       "  <tbody>\n",
       "    <tr>\n",
       "      <th>0</th>\n",
       "      <td>2019-11-13</td>\n",
       "      <td>100.0</td>\n",
       "      <td>0.0</td>\n",
       "      <td>40.0</td>\n",
       "      <td>60.0</td>\n",
       "      <td>0.0</td>\n",
       "      <td>27622.0</td>\n",
       "      <td>27806.4</td>\n",
       "      <td>27587.2</td>\n",
       "      <td>27783.59</td>\n",
       "      <td>278387733.0</td>\n",
       "    </tr>\n",
       "  </tbody>\n",
       "</table>\n",
       "</div>"
      ],
      "text/plain": [
       "        Date  Subjectivity  Objectivity  Positive  Negative  Neutral     Open  \\\n",
       "0 2019-11-13         100.0          0.0      40.0      60.0      0.0  27622.0   \n",
       "\n",
       "      High      Low     Close       Volume  \n",
       "0  27806.4  27587.2  27783.59  278387733.0  "
      ]
     },
     "execution_count": 7,
     "metadata": {},
     "output_type": "execute_result"
    },
    {
     "data": {
      "text/plain": [
       "Date            datetime64[ns]\n",
       "Subjectivity           float64\n",
       "Objectivity            float64\n",
       "Positive               float64\n",
       "Negative               float64\n",
       "Neutral                float64\n",
       "Open                   float64\n",
       "High                   float64\n",
       "Low                    float64\n",
       "Close                  float64\n",
       "Volume                 float64\n",
       "dtype: object"
      ]
     },
     "execution_count": 7,
     "metadata": {},
     "output_type": "execute_result"
    }
   ],
   "source": [
    "# Create a dataframe by merging the headlines and the stock prices dataframe\n",
    "merged_dataframe = sentence_df[[ 'Subjectivity', 'Objectivity', 'Positive', 'Negative', 'Neutral']].merge(stock_data, how='inner',right_index=True, left_index=True)\n",
    "# Check the shape and top 5 rows of the merged dataframe\n",
    "print(merged_dataframe.shape)\n",
    "merged_dataframe.head()\n",
    "\n",
    "# Push the Label column to the end of the dataframe\n",
    "cols = list(merged_dataframe)\n",
    "# print(cols)\n",
    "cols.insert(0,cols.pop(cols.index('Date')))\n",
    "merged_dataframe = merged_dataframe.ix[:, cols]\n",
    "merged_dataframe.head()\n",
    "merged_dataframe.dtypes"
   ]
  },
  {
   "cell_type": "code",
   "execution_count": 8,
   "metadata": {
    "scrolled": false
   },
   "outputs": [
    {
     "name": "stdout",
     "output_type": "stream",
     "text": [
      "Date            1\n",
      "Subjectivity    1\n",
      "Objectivity     1\n",
      "Positive        1\n",
      "Negative        1\n",
      "Neutral         1\n",
      "Open            1\n",
      "High            1\n",
      "Low             1\n",
      "Close           1\n",
      "Volume          1\n",
      "dtype: int64\n"
     ]
    },
    {
     "data": {
      "text/html": [
       "<div>\n",
       "<style scoped>\n",
       "    .dataframe tbody tr th:only-of-type {\n",
       "        vertical-align: middle;\n",
       "    }\n",
       "\n",
       "    .dataframe tbody tr th {\n",
       "        vertical-align: top;\n",
       "    }\n",
       "\n",
       "    .dataframe thead th {\n",
       "        text-align: right;\n",
       "    }\n",
       "</style>\n",
       "<table border=\"1\" class=\"dataframe\">\n",
       "  <thead>\n",
       "    <tr style=\"text-align: right;\">\n",
       "      <th></th>\n",
       "      <th>Subjectivity</th>\n",
       "      <th>Objectivity</th>\n",
       "      <th>Positive</th>\n",
       "      <th>Negative</th>\n",
       "      <th>Neutral</th>\n",
       "      <th>Open</th>\n",
       "      <th>High</th>\n",
       "      <th>Low</th>\n",
       "      <th>Close</th>\n",
       "      <th>Volume</th>\n",
       "    </tr>\n",
       "  </thead>\n",
       "  <tbody>\n",
       "    <tr>\n",
       "      <th>0</th>\n",
       "      <td>100.0</td>\n",
       "      <td>0.0</td>\n",
       "      <td>40.0</td>\n",
       "      <td>60.0</td>\n",
       "      <td>0.0</td>\n",
       "      <td>27622.0</td>\n",
       "      <td>27806.4</td>\n",
       "      <td>27587.2</td>\n",
       "      <td>27783.59</td>\n",
       "      <td>278387733.0</td>\n",
       "    </tr>\n",
       "  </tbody>\n",
       "</table>\n",
       "</div>"
      ],
      "text/plain": [
       "   Subjectivity  Objectivity  Positive  Negative  Neutral     Open     High  \\\n",
       "0         100.0          0.0      40.0      60.0      0.0  27622.0  27806.4   \n",
       "\n",
       "       Low     Close       Volume  \n",
       "0  27587.2  27783.59  278387733.0  "
      ]
     },
     "execution_count": 8,
     "metadata": {},
     "output_type": "execute_result"
    }
   ],
   "source": [
    "# Print the datatypes and count of the dataframe\n",
    "# print(merged_dataframe.dtypes)\n",
    "print(merged_dataframe.count())\n",
    "X_test = merged_dataframe.loc[:,'Subjectivity':'Volume']\n",
    "X_test\n",
    "# y = merged_dataframe.loc[:,'Label']"
   ]
  },
  {
   "cell_type": "code",
   "execution_count": 9,
   "metadata": {},
   "outputs": [
    {
     "data": {
      "text/plain": [
       "array([[1.15910933e+08, 3.39809656e+04, 1.79866199e+02]])"
      ]
     },
     "execution_count": 9,
     "metadata": {},
     "output_type": "execute_result"
    },
    {
     "data": {
      "text/plain": [
       "(1L, 3L)"
      ]
     },
     "execution_count": 9,
     "metadata": {},
     "output_type": "execute_result"
    },
    {
     "name": "stdout",
     "output_type": "stream",
     "text": [
      "<type 'numpy.ndarray'>\n"
     ]
    }
   ],
   "source": [
    "pca = PCA(n_components=3)\n",
    "pca = pickle.load(open(\"pca_3.pickle.dat\", \"rb\"))\n",
    "# pca.fit(X_test)\n",
    "# X_test.dtypes\n",
    "transformed = pca.transform(X_test)\n",
    "transformed\n",
    "\n",
    "transformed.shape\n",
    "print(type(transformed))"
   ]
  },
  {
   "cell_type": "markdown",
   "metadata": {},
   "source": [
    "# Current Trend Prediction"
   ]
  },
  {
   "cell_type": "code",
   "execution_count": 10,
   "metadata": {
    "scrolled": true
   },
   "outputs": [
    {
     "data": {
      "text/plain": [
       "1"
      ]
     },
     "execution_count": 10,
     "metadata": {},
     "output_type": "execute_result"
    },
    {
     "name": "stdout",
     "output_type": "stream",
     "text": [
      "Stock is likely to go up based on current news.\n"
     ]
    }
   ],
   "source": [
    "pca_df = pd.DataFrame(transformed)\n",
    "\n",
    "clf = XGBClassifier(n_estimators=500, max_depth=3)\n",
    "clf = pickle.load(open(\"xgboost_500_3.pickle.dat\", \"rb\"))\n",
    "\n",
    "y_pred_pca = clf.predict(pca_df)\n",
    "y_pred_pca[0]\n",
    "if (y_pred_pca[0] == 0):\n",
    "    print (\"Stock is likely to go down based on current news.\")\n",
    "if (y_pred_pca[0] == 1):\n",
    "    print (\"Stock is likely to go up based on current news.\")\n",
    "#zero tells if market  will go down or up(1)"
   ]
  },
  {
   "cell_type": "code",
   "execution_count": 11,
   "metadata": {},
   "outputs": [],
   "source": [
    "apiKey = '9AyXbJ2Mzk2M8ptCmzr4YEZTor4KEWBoBtLTscfz4x8Xugh6PnQxLjx38xbt'\n",
    "index = '^DJI'\n",
    "apiEndPoint = 'https://api.worldtradingdata.com/api/v1/history?symbol=' +index+ '&sort=oldest&date_from=2009-08-08&api_token=' + apiKey\n",
    "\n",
    "request=Request(apiEndPoint)\n",
    "response = urlopen(request)\n",
    "elevations = response.read()\n",
    "data = json.loads(elevations)\n",
    "# data.head()"
   ]
  },
  {
   "cell_type": "code",
   "execution_count": 12,
   "metadata": {},
   "outputs": [
    {
     "data": {
      "text/plain": [
       "2581"
      ]
     },
     "execution_count": 12,
     "metadata": {},
     "output_type": "execute_result"
    },
    {
     "data": {
      "text/html": [
       "<div>\n",
       "<style scoped>\n",
       "    .dataframe tbody tr th:only-of-type {\n",
       "        vertical-align: middle;\n",
       "    }\n",
       "\n",
       "    .dataframe tbody tr th {\n",
       "        vertical-align: top;\n",
       "    }\n",
       "\n",
       "    .dataframe thead th {\n",
       "        text-align: right;\n",
       "    }\n",
       "</style>\n",
       "<table border=\"1\" class=\"dataframe\">\n",
       "  <thead>\n",
       "    <tr style=\"text-align: right;\">\n",
       "      <th></th>\n",
       "      <th>Date</th>\n",
       "      <th>Open</th>\n",
       "      <th>High</th>\n",
       "      <th>Low</th>\n",
       "      <th>Close</th>\n",
       "      <th>Volume</th>\n",
       "    </tr>\n",
       "  </thead>\n",
       "  <tbody>\n",
       "    <tr>\n",
       "      <th>0</th>\n",
       "      <td>2018-03-06</td>\n",
       "      <td>24965.89</td>\n",
       "      <td>24995.24</td>\n",
       "      <td>24708.41</td>\n",
       "      <td>24884.12</td>\n",
       "      <td>331766021</td>\n",
       "    </tr>\n",
       "    <tr>\n",
       "      <th>1</th>\n",
       "      <td>2019-06-06</td>\n",
       "      <td>25567.45</td>\n",
       "      <td>25800.30</td>\n",
       "      <td>25518.05</td>\n",
       "      <td>25720.66</td>\n",
       "      <td>248068144</td>\n",
       "    </tr>\n",
       "    <tr>\n",
       "      <th>2</th>\n",
       "      <td>2019-06-07</td>\n",
       "      <td>25768.72</td>\n",
       "      <td>26072.75</td>\n",
       "      <td>25768.72</td>\n",
       "      <td>25983.94</td>\n",
       "      <td>263011043</td>\n",
       "    </tr>\n",
       "    <tr>\n",
       "      <th>3</th>\n",
       "      <td>2019-06-04</td>\n",
       "      <td>24962.82</td>\n",
       "      <td>25343.77</td>\n",
       "      <td>24962.82</td>\n",
       "      <td>25332.18</td>\n",
       "      <td>281688224</td>\n",
       "    </tr>\n",
       "    <tr>\n",
       "      <th>4</th>\n",
       "      <td>2018-03-07</td>\n",
       "      <td>24758.15</td>\n",
       "      <td>24849.68</td>\n",
       "      <td>24535.12</td>\n",
       "      <td>24801.36</td>\n",
       "      <td>394070603</td>\n",
       "    </tr>\n",
       "  </tbody>\n",
       "</table>\n",
       "</div>"
      ],
      "text/plain": [
       "         Date      Open      High       Low     Close     Volume\n",
       "0  2018-03-06  24965.89  24995.24  24708.41  24884.12  331766021\n",
       "1  2019-06-06  25567.45  25800.30  25518.05  25720.66  248068144\n",
       "2  2019-06-07  25768.72  26072.75  25768.72  25983.94  263011043\n",
       "3  2019-06-04  24962.82  25343.77  24962.82  25332.18  281688224\n",
       "4  2018-03-07  24758.15  24849.68  24535.12  24801.36  394070603"
      ]
     },
     "execution_count": 12,
     "metadata": {},
     "output_type": "execute_result"
    }
   ],
   "source": [
    "df = pd_json.json_normalize(data, \n",
    "                            record_path='history', \n",
    "                            meta=['history'])\n",
    "\n",
    "numberOfRows = len(df.index)\n",
    "stonks = pd.DataFrame(index=np.arange(0, numberOfRows), columns=('Date', 'Open', 'High','Low','Close', 'Volume'))\n",
    "for idx , date in enumerate(data['history']): \n",
    "    stonks.loc[idx] = [date \n",
    "                       ,data['history'][date]['open']\n",
    "                       ,data['history'][date]['high']\n",
    "                       ,data['history'][date]['low']\n",
    "                       ,data['history'][date]['close']\n",
    "                       ,data['history'][date]['volume']\n",
    "                       ]\n",
    "numberOfRows\n",
    "stonks.head()"
   ]
  },
  {
   "cell_type": "code",
   "execution_count": 13,
   "metadata": {},
   "outputs": [
    {
     "name": "stdout",
     "output_type": "stream",
     "text": [
      "Date      datetime64[ns]\n",
      "Open             float64\n",
      "High             float64\n",
      "Low              float64\n",
      "Close            float64\n",
      "Volume           float64\n",
      "dtype: object\n",
      "Date      2581\n",
      "Open      2581\n",
      "High      2581\n",
      "Low       2581\n",
      "Close     2581\n",
      "Volume    2581\n",
      "dtype: int64\n"
     ]
    },
    {
     "data": {
      "text/html": [
       "<div>\n",
       "<style scoped>\n",
       "    .dataframe tbody tr th:only-of-type {\n",
       "        vertical-align: middle;\n",
       "    }\n",
       "\n",
       "    .dataframe tbody tr th {\n",
       "        vertical-align: top;\n",
       "    }\n",
       "\n",
       "    .dataframe thead th {\n",
       "        text-align: right;\n",
       "    }\n",
       "</style>\n",
       "<table border=\"1\" class=\"dataframe\">\n",
       "  <thead>\n",
       "    <tr style=\"text-align: right;\">\n",
       "      <th></th>\n",
       "      <th>Date</th>\n",
       "      <th>Open</th>\n",
       "      <th>High</th>\n",
       "      <th>Low</th>\n",
       "      <th>Close</th>\n",
       "      <th>Volume</th>\n",
       "    </tr>\n",
       "  </thead>\n",
       "  <tbody>\n",
       "    <tr>\n",
       "      <th>0</th>\n",
       "      <td>2018-03</td>\n",
       "      <td>24965.89</td>\n",
       "      <td>24995.24</td>\n",
       "      <td>24708.41</td>\n",
       "      <td>24884.12</td>\n",
       "      <td>331766021.0</td>\n",
       "    </tr>\n",
       "    <tr>\n",
       "      <th>1</th>\n",
       "      <td>2019-06</td>\n",
       "      <td>25567.45</td>\n",
       "      <td>25800.30</td>\n",
       "      <td>25518.05</td>\n",
       "      <td>25720.66</td>\n",
       "      <td>248068144.0</td>\n",
       "    </tr>\n",
       "    <tr>\n",
       "      <th>2</th>\n",
       "      <td>2019-06</td>\n",
       "      <td>25768.72</td>\n",
       "      <td>26072.75</td>\n",
       "      <td>25768.72</td>\n",
       "      <td>25983.94</td>\n",
       "      <td>263011043.0</td>\n",
       "    </tr>\n",
       "    <tr>\n",
       "      <th>3</th>\n",
       "      <td>2019-06</td>\n",
       "      <td>24962.82</td>\n",
       "      <td>25343.77</td>\n",
       "      <td>24962.82</td>\n",
       "      <td>25332.18</td>\n",
       "      <td>281688224.0</td>\n",
       "    </tr>\n",
       "    <tr>\n",
       "      <th>4</th>\n",
       "      <td>2018-03</td>\n",
       "      <td>24758.15</td>\n",
       "      <td>24849.68</td>\n",
       "      <td>24535.12</td>\n",
       "      <td>24801.36</td>\n",
       "      <td>394070603.0</td>\n",
       "    </tr>\n",
       "  </tbody>\n",
       "</table>\n",
       "</div>"
      ],
      "text/plain": [
       "      Date      Open      High       Low     Close       Volume\n",
       "0  2018-03  24965.89  24995.24  24708.41  24884.12  331766021.0\n",
       "1  2019-06  25567.45  25800.30  25518.05  25720.66  248068144.0\n",
       "2  2019-06  25768.72  26072.75  25768.72  25983.94  263011043.0\n",
       "3  2019-06  24962.82  25343.77  24962.82  25332.18  281688224.0\n",
       "4  2018-03  24758.15  24849.68  24535.12  24801.36  394070603.0"
      ]
     },
     "execution_count": 13,
     "metadata": {},
     "output_type": "execute_result"
    }
   ],
   "source": [
    "\n",
    "# Check the shape and datatypes of the stock prices dataframe\n",
    "stock_data = stonks\n",
    "stock_data['Date'] = pd.to_datetime(stock_data['Date'])\n",
    "stock_data['Open'] = stock_data['Open'].astype(float)\n",
    "stock_data['High'] = stock_data['High'].astype(float)\n",
    "stock_data['Low'] = stock_data['Low'].astype(float)\n",
    "stock_data['Close'] = stock_data['Close'].astype(float)\n",
    "stock_data['Volume'] = stock_data['Volume'].astype(float)\n",
    "\n",
    "merged_dataframe = stock_data\n",
    "# Print the datatypes and count of the dataframe\n",
    "print(merged_dataframe.dtypes)\n",
    "print(merged_dataframe.count())\n",
    "# # Change the NaN values to the mean value of that column\n",
    "# nan_list = ['Subjectivity', 'Objectivity', 'Positive', 'Negative', 'Neutral']\n",
    "# for col in nan_list:\n",
    "#     merged_dataframe[col] = merged_dataframe[col].fillna(merged_dataframe[col].mean())\n",
    "\n",
    "    \n",
    "merged_dataframe['Date'] = merged_dataframe['Date'].dt.strftime('%Y-%m')\n",
    "# df_dateclose = pd.Series(merged_dataframe['Close'].values, index = merged_dataframe['Date'])\n",
    "merged_dataframe.head()"
   ]
  },
  {
   "cell_type": "code",
   "execution_count": 14,
   "metadata": {},
   "outputs": [
    {
     "data": {
      "text/html": [
       "<div>\n",
       "<style scoped>\n",
       "    .dataframe tbody tr th:only-of-type {\n",
       "        vertical-align: middle;\n",
       "    }\n",
       "\n",
       "    .dataframe tbody tr th {\n",
       "        vertical-align: top;\n",
       "    }\n",
       "\n",
       "    .dataframe thead th {\n",
       "        text-align: right;\n",
       "    }\n",
       "</style>\n",
       "<table border=\"1\" class=\"dataframe\">\n",
       "  <thead>\n",
       "    <tr style=\"text-align: right;\">\n",
       "      <th></th>\n",
       "      <th>Date</th>\n",
       "      <th>Open</th>\n",
       "      <th>High</th>\n",
       "      <th>Low</th>\n",
       "      <th>Close</th>\n",
       "      <th>Volume</th>\n",
       "    </tr>\n",
       "  </thead>\n",
       "  <tbody>\n",
       "    <tr>\n",
       "      <th>802</th>\n",
       "      <td>2009-08</td>\n",
       "      <td>9347.86</td>\n",
       "      <td>9519.11</td>\n",
       "      <td>9347.25</td>\n",
       "      <td>9505.96</td>\n",
       "      <td>293528544.0</td>\n",
       "    </tr>\n",
       "    <tr>\n",
       "      <th>801</th>\n",
       "      <td>2009-08</td>\n",
       "      <td>9538.61</td>\n",
       "      <td>9582.97</td>\n",
       "      <td>9485.78</td>\n",
       "      <td>9543.52</td>\n",
       "      <td>154665200.0</td>\n",
       "    </tr>\n",
       "    <tr>\n",
       "      <th>659</th>\n",
       "      <td>2009-08</td>\n",
       "      <td>9542.91</td>\n",
       "      <td>9543.06</td>\n",
       "      <td>9436.13</td>\n",
       "      <td>9496.28</td>\n",
       "      <td>201604464.0</td>\n",
       "    </tr>\n",
       "    <tr>\n",
       "      <th>964</th>\n",
       "      <td>2009-08</td>\n",
       "      <td>9368.41</td>\n",
       "      <td>9371.96</td>\n",
       "      <td>9290.34</td>\n",
       "      <td>9337.95</td>\n",
       "      <td>161365312.0</td>\n",
       "    </tr>\n",
       "    <tr>\n",
       "      <th>965</th>\n",
       "      <td>2009-08</td>\n",
       "      <td>9334.33</td>\n",
       "      <td>9334.33</td>\n",
       "      <td>9216.88</td>\n",
       "      <td>9241.45</td>\n",
       "      <td>171375168.0</td>\n",
       "    </tr>\n",
       "  </tbody>\n",
       "</table>\n",
       "</div>"
      ],
      "text/plain": [
       "        Date     Open     High      Low    Close       Volume\n",
       "802  2009-08  9347.86  9519.11  9347.25  9505.96  293528544.0\n",
       "801  2009-08  9538.61  9582.97  9485.78  9543.52  154665200.0\n",
       "659  2009-08  9542.91  9543.06  9436.13  9496.28  201604464.0\n",
       "964  2009-08  9368.41  9371.96  9290.34  9337.95  161365312.0\n",
       "965  2009-08  9334.33  9334.33  9216.88  9241.45  171375168.0"
      ]
     },
     "execution_count": 14,
     "metadata": {},
     "output_type": "execute_result"
    },
    {
     "data": {
      "text/html": [
       "<div>\n",
       "<style scoped>\n",
       "    .dataframe tbody tr th:only-of-type {\n",
       "        vertical-align: middle;\n",
       "    }\n",
       "\n",
       "    .dataframe tbody tr th {\n",
       "        vertical-align: top;\n",
       "    }\n",
       "\n",
       "    .dataframe thead th {\n",
       "        text-align: right;\n",
       "    }\n",
       "</style>\n",
       "<table border=\"1\" class=\"dataframe\">\n",
       "  <thead>\n",
       "    <tr style=\"text-align: right;\">\n",
       "      <th></th>\n",
       "      <th>Date</th>\n",
       "      <th>Open</th>\n",
       "      <th>High</th>\n",
       "      <th>Low</th>\n",
       "      <th>Close</th>\n",
       "      <th>Volume</th>\n",
       "    </tr>\n",
       "  </thead>\n",
       "  <tbody>\n",
       "    <tr>\n",
       "      <th>0</th>\n",
       "      <td>2009-08</td>\n",
       "      <td>9347.86</td>\n",
       "      <td>9519.11</td>\n",
       "      <td>9347.25</td>\n",
       "      <td>9505.96</td>\n",
       "      <td>293528544.0</td>\n",
       "    </tr>\n",
       "    <tr>\n",
       "      <th>1</th>\n",
       "      <td>2009-08</td>\n",
       "      <td>9538.61</td>\n",
       "      <td>9582.97</td>\n",
       "      <td>9485.78</td>\n",
       "      <td>9543.52</td>\n",
       "      <td>154665200.0</td>\n",
       "    </tr>\n",
       "    <tr>\n",
       "      <th>2</th>\n",
       "      <td>2009-08</td>\n",
       "      <td>9542.91</td>\n",
       "      <td>9543.06</td>\n",
       "      <td>9436.13</td>\n",
       "      <td>9496.28</td>\n",
       "      <td>201604464.0</td>\n",
       "    </tr>\n",
       "    <tr>\n",
       "      <th>3</th>\n",
       "      <td>2009-08</td>\n",
       "      <td>9368.41</td>\n",
       "      <td>9371.96</td>\n",
       "      <td>9290.34</td>\n",
       "      <td>9337.95</td>\n",
       "      <td>161365312.0</td>\n",
       "    </tr>\n",
       "    <tr>\n",
       "      <th>4</th>\n",
       "      <td>2009-08</td>\n",
       "      <td>9334.33</td>\n",
       "      <td>9334.33</td>\n",
       "      <td>9216.88</td>\n",
       "      <td>9241.45</td>\n",
       "      <td>171375168.0</td>\n",
       "    </tr>\n",
       "  </tbody>\n",
       "</table>\n",
       "</div>"
      ],
      "text/plain": [
       "      Date     Open     High      Low    Close       Volume\n",
       "0  2009-08  9347.86  9519.11  9347.25  9505.96  293528544.0\n",
       "1  2009-08  9538.61  9582.97  9485.78  9543.52  154665200.0\n",
       "2  2009-08  9542.91  9543.06  9436.13  9496.28  201604464.0\n",
       "3  2009-08  9368.41  9371.96  9290.34  9337.95  161365312.0\n",
       "4  2009-08  9334.33  9334.33  9216.88  9241.45  171375168.0"
      ]
     },
     "execution_count": 14,
     "metadata": {},
     "output_type": "execute_result"
    }
   ],
   "source": [
    "merged_dataframe = merged_dataframe.sort_values(by = 'Date')\n",
    "merged_dataframe.head()\n",
    "merged_dataframe = merged_dataframe.reset_index(drop=True)\n",
    "merged_dataframe.head()"
   ]
  },
  {
   "cell_type": "code",
   "execution_count": 15,
   "metadata": {},
   "outputs": [],
   "source": [
    "# # evaluate an ARIMA model for a given order (p,d,q)\n",
    "# def evaluate_arima_model(X, arima_order):\n",
    "#     # prepare training dataset\n",
    "#     train_size = int(len(X) * 0.66)\n",
    "#     train, test = X[0:train_size], X[train_size:]\n",
    "#     history = [x for x in train]\n",
    "#     # make predictions\n",
    "#     predictions = list()\n",
    "#     for t in range(len(test)):\n",
    "#         model = ARIMA(history, order=arima_order)\n",
    "#         model_fit = model.fit(disp=0)\n",
    "#         yhat = model_fit.forecast()[0]\n",
    "#         predictions.append(yhat)\n",
    "#         history.append(test[t])\n",
    "#     # calculate out of sample error\n",
    "#     error = mean_squared_error(test, predictions)\n",
    "#     return error\n",
    "\n",
    "# # evaluate combinations of p, d and q values for an ARIMA model\n",
    "# def evaluate_models(dataset, p_values, d_values, q_values):\n",
    "#     dataset = dataset.astype('float32')\n",
    "#     best_score, best_cfg = float(\"inf\"), None\n",
    "#     for p in p_values:\n",
    "#         for d in d_values:\n",
    "#             for q in q_values:\n",
    "#                 order = (p,d,q)\n",
    "#                 try:\n",
    "#                     mse = evaluate_arima_model(dataset, order)\n",
    "#                     if mse < best_score:\n",
    "#                         best_score, best_cfg = mse, order\n",
    "#                     print('ARIMA%s MSE=%.3f' % (order,mse))\n",
    "#                 except:\n",
    "#                     continue\n",
    "#     print('Best ARIMA%s MSE=%.3f' % (best_cfg, best_score))\n",
    "\n",
    "# # evaluate parameters\n",
    "# p_values = [0, 1, 2, 4, 6, 8, 10]\n",
    "# d_values = range(0, 3)\n",
    "# q_values = range(0, 3)\n",
    "# df_dateopen = pd.Series(merged_dataframe['Open'].values, index = merged_dataframe['Date'])\n",
    "# df_dateopen.head()\n",
    "\n",
    "# warnings.filterwarnings(\"ignore\")\n",
    "# evaluate_models(df_dateopen.values, p_values, d_values, q_values)"
   ]
  },
  {
   "cell_type": "markdown",
   "metadata": {},
   "source": [
    "# Close Values"
   ]
  },
  {
   "cell_type": "code",
   "execution_count": 17,
   "metadata": {},
   "outputs": [
    {
     "data": {
      "text/plain": [
       "Date\n",
       "2009-08    9505.96\n",
       "2009-08    9543.52\n",
       "2009-08    9496.28\n",
       "2009-08    9337.95\n",
       "2009-08    9241.45\n",
       "dtype: float64"
      ]
     },
     "execution_count": 17,
     "metadata": {},
     "output_type": "execute_result"
    },
    {
     "data": {
      "text/plain": [
       "array([ 9505.96,  9543.52,  9496.28, ..., 27347.36, 27462.11, 27783.59])"
      ]
     },
     "execution_count": 17,
     "metadata": {},
     "output_type": "execute_result"
    },
    {
     "data": {
      "text/plain": [
       "2581"
      ]
     },
     "execution_count": 17,
     "metadata": {},
     "output_type": "execute_result"
    },
    {
     "data": {
      "text/plain": [
       "1703"
      ]
     },
     "execution_count": 17,
     "metadata": {},
     "output_type": "execute_result"
    },
    {
     "data": {
      "text/plain": [
       "878"
      ]
     },
     "execution_count": 17,
     "metadata": {},
     "output_type": "execute_result"
    },
    {
     "data": {
      "text/plain": [
       "1703"
      ]
     },
     "execution_count": 17,
     "metadata": {},
     "output_type": "execute_result"
    },
    {
     "name": "stdout",
     "output_type": "stream",
     "text": [
      "Tomorrows Prediction for Close: 27790.674353 \n"
     ]
    }
   ],
   "source": [
    "df_dateclose = pd.Series(merged_dataframe['Close'].values, index = merged_dataframe['Date'])\n",
    "df_dateclose.head()\n",
    "# 010, 011 dras, conservative\n",
    "X = df_dateclose.values\n",
    "X\n",
    "len(X)\n",
    "size = int(len(X) * 0.66)\n",
    "train, test = X[0:size], X[size:len(X)]\n",
    "len(train)\n",
    "len(test)\n",
    "# train\n",
    "history = [x for x in train]\n",
    "len(history)\n",
    "predictions = list()\n",
    "# predictions\n",
    "model = ARIMA(X, order=(0,1,0))\n",
    "model_fit = model.fit(disp=0)\n",
    "output = model_fit.forecast()\n",
    "yhat = output[0]\n",
    "print (\"Tomorrows Prediction for Close: %f \" % (yhat))"
   ]
  },
  {
   "cell_type": "code",
   "execution_count": null,
   "metadata": {
    "scrolled": true
   },
   "outputs": [],
   "source": [
    "# df_dateclose = pd.Series(merged_dataframe['Close'].values, index = merged_dataframe['Date'])\n",
    "# df_dateclose.head()\n",
    "\n",
    "# X = df_dateclose.values\n",
    "# X\n",
    "# len(X)\n",
    "# size = int(len(X) * 0.66)\n",
    "# train, test = X[0:size], X[size:len(X)]\n",
    "# len(train)\n",
    "# len(test)\n",
    "# # train\n",
    "# history = [x for x in train]\n",
    "# len(history)\n",
    "# predictions = list()\n",
    "# # predictions\n",
    "# model = ARIMA(X, order=(0,1,1))\n",
    "# model_fit = model.fit(disp=0)\n",
    "# output = model_fit.forecast()\n",
    "# yhat = output[0]\n",
    "# print (\"Tomorrows Prediction: %f \" % (yhat))\n",
    "\n",
    "\n",
    "# final_model = None \n",
    "# for t in range(len(test)):\n",
    "#     model = ARIMA(history, order=(0,1,1))\n",
    "#     model_fit = model.fit(disp=0)\n",
    "#     output = model_fit.forecast()\n",
    "#     yhat = output[0]\n",
    "#     predictions.append(yhat)\n",
    "#     obs = test[t]\n",
    "#     history.append(obs)\n",
    "#     print('predicted=%f, expected=%f' % (yhat, obs))\n",
    "#     if (t == (len(test) -1) ):\n",
    "#         history.append(obs)\n",
    "#         model = ARIMA(history, order=(0,1,1))\n",
    "#         model_fit = model.fit(disp=0)\n",
    "#         output = model_fit.forecast()\n",
    "#         yhat = output[0]\n",
    "#         print (\"Tomorrows Prediction: %f \" % (yhat))\n",
    "\n",
    "# error = mean_squared_error(test, predictions)\n",
    "# print('Test MSE: %.3f' % error)\n",
    "# # plot\n",
    "# pyplot.plot(test)\n",
    "# pyplot.plot(predictions, color='red')\n",
    "# pyplot.show()"
   ]
  },
  {
   "cell_type": "markdown",
   "metadata": {},
   "source": [
    "# Open Values"
   ]
  },
  {
   "cell_type": "code",
   "execution_count": 19,
   "metadata": {},
   "outputs": [
    {
     "data": {
      "text/plain": [
       "Date\n",
       "2009-08    9347.86\n",
       "2009-08    9538.61\n",
       "2009-08    9542.91\n",
       "2009-08    9368.41\n",
       "2009-08    9334.33\n",
       "dtype: float64"
      ]
     },
     "execution_count": 19,
     "metadata": {},
     "output_type": "execute_result"
    },
    {
     "data": {
      "text/plain": [
       "array([ 9347.86,  9538.61,  9542.91, ..., 27142.95, 27402.06, 27622.  ])"
      ]
     },
     "execution_count": 19,
     "metadata": {},
     "output_type": "execute_result"
    },
    {
     "data": {
      "text/plain": [
       "2581"
      ]
     },
     "execution_count": 19,
     "metadata": {},
     "output_type": "execute_result"
    },
    {
     "data": {
      "text/plain": [
       "1703"
      ]
     },
     "execution_count": 19,
     "metadata": {},
     "output_type": "execute_result"
    },
    {
     "data": {
      "text/plain": [
       "878"
      ]
     },
     "execution_count": 19,
     "metadata": {},
     "output_type": "execute_result"
    },
    {
     "data": {
      "text/plain": [
       "1703"
      ]
     },
     "execution_count": 19,
     "metadata": {},
     "output_type": "execute_result"
    },
    {
     "name": "stdout",
     "output_type": "stream",
     "text": [
      "Tomorrows Prediction for Open: 27629.083000 \n"
     ]
    }
   ],
   "source": [
    "df_dateopen = pd.Series(merged_dataframe['Open'].values, index = merged_dataframe['Date'])\n",
    "df_dateopen.head()\n",
    "\n",
    "X = df_dateopen.values\n",
    "X\n",
    "len(X)\n",
    "size = int(len(X) * 0.66)\n",
    "train, test = X[0:size], X[size:len(X)]\n",
    "len(train)\n",
    "len(test)\n",
    "# train\n",
    "history = [x for x in train]\n",
    "len(history)\n",
    "predictions = list()\n",
    "# predictions\n",
    "model = ARIMA(X, order=(0,1,0))\n",
    "model_fit = model.fit(disp=0)\n",
    "output = model_fit.forecast()\n",
    "yhat = output[0]\n",
    "print (\"Tomorrows Prediction for Open: %f \" % (yhat))"
   ]
  },
  {
   "cell_type": "code",
   "execution_count": null,
   "metadata": {
    "scrolled": true
   },
   "outputs": [],
   "source": [
    "# df_dateclose = pd.Series(merged_dataframe['Open'].values, index = merged_dataframe['Date'])\n",
    "# df_dateclose.head()\n",
    "\n",
    "# X = df_dateclose.values\n",
    "# X\n",
    "# len(X)\n",
    "# size = int(len(X) * 0.66)\n",
    "# train, test = X[0:size], X[size:len(X)]\n",
    "# len(train)\n",
    "# len(test)\n",
    "# # train\n",
    "# history = [x for x in train]\n",
    "# len(history)\n",
    "# predictions = list()\n",
    "# # predictions\n",
    "# final_model = None \n",
    "# for t in range(len(test)):\n",
    "#     model = ARIMA(history, order=(0,1,1))\n",
    "#     model_fit = model.fit(disp=0)\n",
    "#     output = model_fit.forecast()\n",
    "#     yhat = output[0]\n",
    "#     predictions.append(yhat)\n",
    "#     obs = test[t]\n",
    "#     history.append(obs)\n",
    "#     print('predicted=%f, expected=%f' % (yhat, obs))\n",
    "#     if (t == (len(test) -1) ):\n",
    "#         history.append(obs)\n",
    "#         model = ARIMA(history, order=(0,1,0))\n",
    "#         model_fit = model.fit(disp=0)\n",
    "#         output = model_fit.forecast()\n",
    "#         yhat = output[0]\n",
    "#         print (\"Tomorrows Prediction: %f \" % (yhat))\n",
    "\n",
    "# error = mean_squared_error(test, predictions)\n",
    "# print('Test MSE: %.3f' % error)\n",
    "# # plot\n",
    "# pyplot.plot(test)\n",
    "# pyplot.plot(predictions, color='red')\n",
    "# pyplot.show()"
   ]
  },
  {
   "cell_type": "code",
   "execution_count": null,
   "metadata": {},
   "outputs": [],
   "source": []
  }
 ],
 "metadata": {
  "kernelspec": {
   "display_name": "Python 2",
   "language": "python",
   "name": "python2"
  },
  "language_info": {
   "codemirror_mode": {
    "name": "ipython",
    "version": 2
   },
   "file_extension": ".py",
   "mimetype": "text/x-python",
   "name": "python",
   "nbconvert_exporter": "python",
   "pygments_lexer": "ipython2",
   "version": "2.7.14"
  }
 },
 "nbformat": 4,
 "nbformat_minor": 2
}
